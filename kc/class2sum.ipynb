{
 "cells": [
  {
   "cell_type": "markdown",
   "metadata": {},
   "source": [
    "# Engineering Math \n",
    "\n",
    "session 2 – Gaussian Elimination for **Any Shape**  \n",
    "Interactive notebook (Python 3)  \n",
    "Author: "
   ]
  },
  {
   "cell_type": "markdown",
   "metadata": {
    "jp-MarkdownHeadingCollapsed": true
   },
   "source": [
    "## 🔧 Setup\n",
    "```bash\n",
    "pip install numpy matplotlib\n",
    "```"
   ]
  },
  {
   "cell_type": "markdown",
   "metadata": {},
   "source": [
    "## 1️⃣ Gaussian Elimination (row-echelon, any m×n)"
   ]
  },
  {
   "cell_type": "code",
   "execution_count": 15,
   "metadata": {},
   "outputs": [],
   "source": [
    "import numpy as np"
   ]
  },
  {
   "cell_type": "code",
   "execution_count": 20,
   "metadata": {},
   "outputs": [],
   "source": [
    "def row_echelon_form(A: np.ndarray) -> np.ndarray:\n",
    "    \"\"\"\n",
    "    Return the row-echelon form of A via Gaussian elimination\n",
    "    with *partial pivoting* (largest-magnitude pivot in current column).\n",
    "    \"\"\"\n",
    "    A = A.astype(float, copy=True)\n",
    "    m, n = A.shape\n",
    "    row = 0\n",
    "\n",
    "    for col in range(n):\n",
    "        # 1. Pivot row\n",
    "        piv = np.argmax(np.abs(A[row:, col])) + row\n",
    "        if abs(A[piv, col]) < 1e-12:\n",
    "            continue                      # skip this column (all zeros)\n",
    "\n",
    "        A[[row, piv]] = A[[piv, row]]\n",
    "\n",
    "        # 2. Eliminate below pivot\n",
    "        for i in range(row + 1, m):\n",
    "            factor = A[i, col] / A[row, col]\n",
    "            A[i, col:] -= factor * A[row, col:]\n",
    "\n",
    "        row += 1\n",
    "        if row == m:\n",
    "            break\n",
    "    return A"
   ]
  },
  {
   "cell_type": "markdown",
   "metadata": {},
   "source": [
    "## 2️⃣ Quick Demo"
   ]
  },
  {
   "cell_type": "code",
   "execution_count": 22,
   "metadata": {},
   "outputs": [
    {
     "name": "stdout",
     "output_type": "stream",
     "text": [
      "Row-echelon form:\n",
      " [[ -3.          -1.           2.         -11.        ]\n",
      " [  0.           1.66666667   0.66666667   4.33333333]\n",
      " [  0.           0.           0.2         -0.2       ]]\n"
     ]
    }
   ],
   "source": [
    "A = np.array([[2, 1, -1, 8],\n",
    "              [-3, -1, 2, -11],\n",
    "              [-2, 1, 2, -3]], float)\n",
    "REF = row_echelon_form(A)\n",
    "print(\"Row-echelon form:\\n\", REF)"
   ]
  },
  {
   "cell_type": "markdown",
   "metadata": {},
   "source": [
    "## 3️⃣ Optional: Utility to print pivots & rank"
   ]
  },
  {
   "cell_type": "code",
   "execution_count": null,
   "metadata": {},
   "outputs": [],
   "source": [
    "def pivots_and_rank(REF: np.ndarray, tol: float = 1e-12):\n",
    "    non_zero = ~np.all(np.isclose(REF, 0.0, atol=tol), axis=1)\n",
    "    rank = np.sum(non_zero)\n",
    "    piv_cols = [np.where(np.abs(r) > tol)[0][0] for r in REF[non_zero]]\n",
    "    return piv_cols, rank\n",
    "\n",
    "piv_cols, rank = pivots_and_rank(REF)\n",
    "print(\"Pivot columns:\", piv_cols)\n",
    "print(\"Rank:\", rank)"
   ]
  },
  {
   "cell_type": "markdown",
   "metadata": {},
   "source": [
    "## 4️⃣ Reduced Row-Echelon Form (RREF)"
   ]
  },
  {
   "cell_type": "code",
   "execution_count": 23,
   "metadata": {},
   "outputs": [],
   "source": [
    "def rref(A: np.ndarray) -> np.ndarray:\n",
    "    \"\"\"Reduced row-echelon form (RREF) via Gauss-Jordan.\"\"\"\n",
    "    A = row_echelon_form(A)\n",
    "    m, n = A.shape\n",
    "\n",
    "    for r in range(m - 1, -1, -1):\n",
    "        # find pivot column\n",
    "        piv_col = np.where(np.abs(A[r]) > 1e-12)[0]\n",
    "        if len(piv_col) == 0:\n",
    "            continue\n",
    "        piv_col = piv_col[0]\n",
    "        # make pivot 1\n",
    "        A[r, :] /= A[r, piv_col]\n",
    "        # eliminate above\n",
    "        for k in range(r):\n",
    "            A[k, :] -= A[k, piv_col] * A[r, :]\n",
    "    return A"
   ]
  },
  {
   "cell_type": "code",
   "execution_count": 24,
   "metadata": {},
   "outputs": [
    {
     "name": "stdout",
     "output_type": "stream",
     "text": [
      "RREF:\n",
      " [[ 1. -0. -0.  2.]\n",
      " [ 0.  1.  0.  3.]\n",
      " [ 0.  0.  1. -1.]]\n"
     ]
    }
   ],
   "source": [
    "A_rref = rref(A.copy())\n",
    "print(\"RREF:\\n\", A_rref)"
   ]
  },
  {
   "cell_type": "markdown",
   "metadata": {},
   "source": [
    "## 5️⃣ Cheat-Sheet\n",
    "\n",
    "| Task | One-liner |\n",
    "|------|-----------|\n",
    "| **REF** (Gaussian elimination) | `row_echelon_form(A)` |\n",
    "| **RREF** (Reduced Row-Echelon Form) | `rref(A)` |\n",
    "| **Rank** | `rank = row_echelon_form(A).sum(~np.allclose(..., 0, axis=1))` |\n",
    "\n",
    "> All functions are **pure NumPy** and work for any **m × n** matrix."
   ]
  }
 ],
 "metadata": {
  "kernelspec": {
   "display_name": "Python 3 (ipykernel)",
   "language": "python",
   "name": "python3"
  },
  "language_info": {
   "codemirror_mode": {
    "name": "ipython",
    "version": 3
   },
   "file_extension": ".py",
   "mimetype": "text/x-python",
   "name": "python",
   "nbconvert_exporter": "python",
   "pygments_lexer": "ipython3",
   "version": "3.10.18"
  }
 },
 "nbformat": 4,
 "nbformat_minor": 4
}
