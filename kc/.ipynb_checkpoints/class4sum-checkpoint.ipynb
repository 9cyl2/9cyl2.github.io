{
 "cells": [
  {
   "cell_type": "markdown",
   "metadata": {},
   "source": [
    "# Determinant: Concept, Properties and Computation  \n",
    "A concise refresher with NumPy / SymPy examples  \n",
    "---"
   ]
  },
  {
   "cell_type": "markdown",
   "metadata": {},
   "source": [
    "## 1. What is a determinant?\n",
    "For every **square** matrix $A\\in\\mathbb{R}^{n\\times n}$ there exists a scalar, denoted $\\det(A)$ or $|A|$, that encodes:\n",
    "- whether the matrix is invertible (non-zero determinant) or singular (zero determinant);  \n",
    "- the product of all eigenvalues: $\\det(A)=\\prod_i\\lambda_i$."
   ]
  },
  {
   "cell_type": "code",
   "execution_count": 1,
   "metadata": {},
   "outputs": [
    {
     "data": {
      "text/plain": [
       "np.float64(-1.0)"
      ]
     },
     "execution_count": 1,
     "metadata": {},
     "output_type": "execute_result"
    }
   ],
   "source": [
    "import numpy as np\n",
    "A = np.array([[2, 1, 1],\n",
    "              [1, 3, 2],\n",
    "              [1, 0, 0]], dtype=float)\n",
    "np.linalg.det(A)"
   ]
  },
  {
   "cell_type": "markdown",
   "metadata": {},
   "source": [
    "A non-zero determinant ⇒ $A$ is invertible."
   ]
  },
  {
   "cell_type": "markdown",
   "metadata": {},
   "source": [
    "## 2. Key properties (with quick NumPy checks)"
   ]
  },
  {
   "cell_type": "markdown",
   "metadata": {},
   "source": [
    "### P1: $\\det(I)=1$"
   ]
  },
  {
   "cell_type": "code",
   "execution_count": 2,
   "metadata": {},
   "outputs": [
    {
     "data": {
      "text/plain": [
       "np.float64(1.0)"
      ]
     },
     "execution_count": 2,
     "metadata": {},
     "output_type": "execute_result"
    }
   ],
   "source": [
    "np.linalg.det(np.eye(3))"
   ]
  },
  {
   "cell_type": "markdown",
   "metadata": {},
   "source": [
    "### P2: Swapping two rows flips the sign"
   ]
  },
  {
   "cell_type": "code",
   "execution_count": 3,
   "metadata": {},
   "outputs": [
    {
     "data": {
      "text/plain": [
       "(np.float64(1.0), np.float64(1.0))"
      ]
     },
     "execution_count": 3,
     "metadata": {},
     "output_type": "execute_result"
    }
   ],
   "source": [
    "A_swap = A.copy()\n",
    "A_swap[[0, 1]] = A_swap[[1, 0]]   # swap rows 0 and 1\n",
    "np.linalg.det(A_swap), -np.linalg.det(A)"
   ]
  },
  {
   "cell_type": "markdown",
   "metadata": {},
   "source": [
    "### P3: Determinant of a triangular matrix = product of diagonal entries"
   ]
  },
  {
   "cell_type": "code",
   "execution_count": 4,
   "metadata": {},
   "outputs": [
    {
     "data": {
      "text/plain": [
       "(np.float64(39.99999999999998), 40)"
      ]
     },
     "execution_count": 4,
     "metadata": {},
     "output_type": "execute_result"
    }
   ],
   "source": [
    "T = np.array([[2, 7, 3],\n",
    "              [0, 5, 9],\n",
    "              [0, 0, 4]], dtype=float)\n",
    "np.linalg.det(T), 2*5*4"
   ]
  },
  {
   "cell_type": "markdown",
   "metadata": {},
   "source": [
    "### P4: $\\det(AB)=\\det(A)\\det(B)$"
   ]
  },
  {
   "cell_type": "code",
   "execution_count": 5,
   "metadata": {},
   "outputs": [
    {
     "data": {
      "text/plain": [
       "(np.float64(0.0), np.float64(-0.0))"
      ]
     },
     "execution_count": 5,
     "metadata": {},
     "output_type": "execute_result"
    }
   ],
   "source": [
    "B = np.random.randint(-3, 3, (3, 3))\n",
    "np.linalg.det(A @ B), np.linalg.det(A) * np.linalg.det(B)"
   ]
  },
  {
   "cell_type": "markdown",
   "metadata": {},
   "source": [
    "### P5: $\\det(A^{T})=\\det(A)$"
   ]
  },
  {
   "cell_type": "code",
   "execution_count": 6,
   "metadata": {},
   "outputs": [
    {
     "data": {
      "text/plain": [
       "True"
      ]
     },
     "execution_count": 6,
     "metadata": {},
     "output_type": "execute_result"
    }
   ],
   "source": [
    "np.allclose(np.linalg.det(A.T), np.linalg.det(A))"
   ]
  },
  {
   "cell_type": "markdown",
   "metadata": {},
   "source": [
    "### P6: Row-scaling multiplies the determinant"
   ]
  },
  {
   "cell_type": "code",
   "execution_count": 7,
   "metadata": {
    "scrolled": true
   },
   "outputs": [
    {
     "data": {
      "text/plain": [
       "(np.float64(-6.99999999999999), np.float64(-7.0))"
      ]
     },
     "execution_count": 7,
     "metadata": {},
     "output_type": "execute_result"
    }
   ],
   "source": [
    "k = 7\n",
    "A_scaled = A.copy()\n",
    "A_scaled[1] *= k               # scale row 1 by k\n",
    "np.linalg.det(A_scaled), k * np.linalg.det(A)"
   ]
  },
  {
   "cell_type": "markdown",
   "metadata": {},
   "source": [
    "### P7: Linearity in each row (or column)\n",
    "If two matrices differ in **only one row**, say row $r$, then\n",
    "$$\\det(A) + \\det(B) = \\det(C)$$\n",
    "where $C$ is identical to $A$ (and $B$) except that row $r$ of $C$ is the **element-wise sum** of row $r$ from $A$ and row $r$ from $B$."
   ]
  },
  {
   "cell_type": "code",
   "execution_count": 8,
   "metadata": {},
   "outputs": [
    {
     "name": "stdout",
     "output_type": "stream",
     "text": [
      "det(A) + det(B) = -0.0000\n",
      "det(C)          = 0.0000\n",
      "difference      = 2.31e-14\n"
     ]
    }
   ],
   "source": [
    "import numpy as np\n",
    "\n",
    "# build two 3×3 matrices that differ ONLY in row 1\n",
    "A = np.array([[2, 1, 3],\n",
    "              [4, 5, 6],\n",
    "              [7, 8, 9]], dtype=float)\n",
    "\n",
    "B = A.copy()\n",
    "B[1] = np.array([10, 11, 12])\n",
    "\n",
    "# matrix C whose row 1 = row1(A) + row1(B)\n",
    "C = A.copy()\n",
    "C[1] = A[1] + B[1]\n",
    "\n",
    "lhs = np.linalg.det(A) + np.linalg.det(B)\n",
    "rhs = np.linalg.det(C)\n",
    "print(f\"det(A) + det(B) = {lhs:.4f}\")\n",
    "print(f\"det(C)          = {rhs:.4f}\")\n",
    "print(f\"difference      = {abs(lhs - rhs):.2e}\")"
   ]
  },
  {
   "cell_type": "markdown",
   "metadata": {},
   "source": [
    "## 3. Computing determinants"
   ]
  },
  {
   "cell_type": "markdown",
   "metadata": {},
   "source": [
    "### 3.1 Built-in "
   ]
  },
  {
   "cell_type": "code",
   "execution_count": 9,
   "metadata": {},
   "outputs": [
    {
     "data": {
      "text/plain": [
       "np.float64(-9.000000000000005)"
      ]
     },
     "execution_count": 9,
     "metadata": {},
     "output_type": "execute_result"
    }
   ],
   "source": [
    "# NumPy uses optimized LU factorization\n",
    "np.linalg.det(A)"
   ]
  },
  {
   "cell_type": "markdown",
   "metadata": {},
   "source": [
    "### 3.2 Symbolic determinant with SymPy"
   ]
  },
  {
   "cell_type": "code",
   "execution_count": 10,
   "metadata": {},
   "outputs": [
    {
     "data": {
      "image/png": "[encoded data removed]",
      "text/latex": [
       "$\\displaystyle -9.0$"
      ],
      "text/plain": [
       "-9.00000000000000"
      ]
     },
     "execution_count": 10,
     "metadata": {},
     "output_type": "execute_result"
    }
   ],
   "source": [
    "import sympy as sp\n",
    "sp.init_printing()\n",
    "As = sp.Matrix(A)\n",
    "As.det()"
   ]
  },
  {
   "cell_type": "markdown",
   "metadata": {},
   "source": [
    "### 3.3 Manual cofactor expansion (educational, not efficient)"
   ]
  },
  {
   "cell_type": "code",
   "execution_count": 11,
   "metadata": {},
   "outputs": [
    {
     "name": "stdout",
     "output_type": "stream",
     "text": [
      "-9.0\n"
     ]
    }
   ],
   "source": [
    "def cofactor_det(M):\n",
    "    n = M.shape[0]\n",
    "    if n == 1:\n",
    "        return M[0, 0]\n",
    "    det = 0.0\n",
    "    for c in range(n):\n",
    "        sub = np.delete(np.delete(M, 0, axis=0), c, axis=1)\n",
    "        det += ((-1) ** c) * M[0, c] * cofactor_det(sub)\n",
    "    return det\n",
    "\n",
    "print(cofactor_det(A))"
   ]
  },
  {
   "cell_type": "markdown",
   "metadata": {},
   "source": [
    "### 3.4 Determinant by row-reduction (Gauss)"
   ]
  },
  {
   "cell_type": "code",
   "execution_count": 12,
   "metadata": {},
   "outputs": [
    {
     "data": {
      "image/png": "[encoded data removed]",
      "text/latex": [
       "$\\displaystyle \\left( -9.00000000000001, \\  -9.00000000000001\\right)$"
      ],
      "text/plain": [
       "(-9.000000000000005, -9.000000000000005)"
      ]
     },
     "execution_count": 12,
     "metadata": {},
     "output_type": "execute_result"
    }
   ],
   "source": [
    "def det_by_rowops(A):\n",
    "    M = A.astype(float).copy()\n",
    "    n = M.shape[0]\n",
    "    det_sign = 1.0\n",
    "    for col in range(n):\n",
    "        # partial pivot\n",
    "        pivot = np.argmax(np.abs(M[col:, col])) + col\n",
    "        if pivot != col:\n",
    "            M[[col, pivot]] = M[[pivot, col]]\n",
    "            det_sign *= -1\n",
    "        if np.isclose(M[col, col], 0):\n",
    "            return 0.0\n",
    "        # elimination below\n",
    "        for row in range(col + 1, n):\n",
    "            factor = M[row, col] / M[col, col]\n",
    "            M[row] -= factor * M[col]\n",
    "    return det_sign * np.prod(np.diag(M))\n",
    "\n",
    "det_by_rowops(A), np.linalg.det(A)"
   ]
  },
  {
   "cell_type": "markdown",
   "metadata": {},
   "source": [
    "## 5. Quick cheat-sheet"
   ]
  },
  {
   "cell_type": "markdown",
   "metadata": {},
   "source": [
    "| Task | One-liner |\n",
    "|------|-----------|\n",
    "| Determinant | `np.linalg.det(A)` |\n",
    "| Singular? | `np.isclose(np.linalg.det(A), 0)` |\n",
    "| Symbolic det | `sympy.Matrix(A).det()` |\n"
   ]
  }
 ],
 "metadata": {
  "kernelspec": {
   "display_name": "Python 3 (ipykernel)",
   "language": "python",
   "name": "python3"
  },
  "language_info": {
   "codemirror_mode": {
    "name": "ipython",
    "version": 3
   },
   "file_extension": ".py",
   "mimetype": "text/x-python",
   "name": "python",
   "nbconvert_exporter": "python",
   "pygments_lexer": "ipython3",
   "version": "3.10.18"
  }
 },
 "nbformat": 4,
 "nbformat_minor": 4
}
