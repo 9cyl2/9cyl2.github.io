{
 "cells": [
  {
   "cell_type": "markdown",
   "metadata": {},
   "source": [
    "# Matrix Basics, Row Operations, Rank & Inverse  \n",
    "A concise refresher with NumPy examples  \n",
    "---"
   ]
  },
  {
   "cell_type": "code",
   "execution_count": null,
   "metadata": {},
   "outputs": [],
   "source": [
    "import numpy as np\n",
    "np.set_printoptions(precision=3, suppress=True)"
   ]
  },
  {
   "cell_type": "markdown",
   "metadata": {},
   "source": [
    "## 1. Create a matrix"
   ]
  },
  {
   "cell_type": "code",
   "execution_count": null,
   "metadata": {},
   "outputs": [],
   "source": [
    "A = np.array([[1, 2, 3],\n",
    "              [4, 5, 6]])\n",
    "print(\"A =\", A, \"shape =\", A.shape)"
   ]
  },
  {
   "cell_type": "markdown",
   "metadata": {},
   "source": [
    "## 2. Basic arithmetic"
   ]
  },
  {
   "cell_type": "code",
   "execution_count": null,
   "metadata": {},
   "outputs": [],
   "source": [
    "B = np.array([[7, 8, 9],\n",
    "              [1, 2, 3]])\n",
    "\n",
    "print(\"A + B =\", A + B)\n",
    "print(\"3*A =\", 3*A)\n",
    "print(\"A @ A.T =\", A @ A.T)   # matrix multiplication"
   ]
  },
  {
   "cell_type": "markdown",
   "metadata": {},
   "source": [
    "## 3. Elementary row operations (EROs)"
   ]
  },
  {
   "cell_type": "code",
   "execution_count": null,
   "metadata": {},
   "outputs": [],
   "source": [
    "def swap_rows(M, i, j):\n",
    "    M[[i, j]] = M[[j, i]]\n",
    "\n",
    "def scale_row(M, i, c):\n",
    "    M[i] *= c\n",
    "\n",
    "def add_multiple(M, target, source, k):\n",
    "    M[target] += k * M[source]\n",
    "\n",
    "# Example: row-echelon form\n",
    "M = A.astype(float)\n",
    "add_multiple(M, 1, 0, -4)   # R2 <- R2 - 4*R1\n",
    "print(\"After one elimination step:\\n\", M)"
   ]
  },
  {
   "cell_type": "markdown",
   "metadata": {},
   "source": [
    "## 4. Rank"
   ]
  },
  {
   "cell_type": "code",
   "execution_count": null,
   "metadata": {},
   "outputs": [],
   "source": [
    "r = np.linalg.matrix_rank(A)\n",
    "print(\"rank(A) =\", r)"
   ]
  },
  {
   "cell_type": "markdown",
   "metadata": {},
   "source": [
    "## 5. Inverse (square, full-rank only)"
   ]
  },
  {
   "cell_type": "code",
   "execution_count": null,
   "metadata": {},
   "outputs": [],
   "source": [
    "Asq = np.array([[2, 1, 1],\n",
    "                [1, 3, 2],\n",
    "                [1, 0, 0]], dtype=float)\n",
    "\n",
    "inv = np.linalg.inv(Asq)\n",
    "print(\"Inverse:\\n\", inv)\n",
    "print(\"Check A @ A^{-1}:\\n\", np.dot(Asq, inv))"
   ]
  },
  {
   "cell_type": "markdown",
   "metadata": {},
   "source": [
    "## 6. Gauss–Jordan inversion with row ops"
   ]
  },
  {
   "cell_type": "code",
   "execution_count": null,
   "metadata": {},
   "outputs": [],
   "source": [
    "def inverse_via_rowops(A):\n",
    "    A = np.array(A, dtype=float)\n",
    "    n = A.shape[0]\n",
    "    aug = np.hstack([A, np.eye(n)])\n",
    "    for col in range(n):\n",
    "        # partial pivot\n",
    "        pivot = np.argmax(np.abs(aug[col:, col])) + col\n",
    "        swap_rows(aug, col, pivot)\n",
    "        # scale pivot row\n",
    "        aug[col] /= aug[col, col]\n",
    "        # eliminate above & below\n",
    "        for row in range(n):\n",
    "            if row != col:\n",
    "                add_multiple(aug, row, col, -aug[row, col])\n",
    "    return aug[:, n:]\n",
    "\n",
    "print(\"Gauss-Jordan inverse:\\n\", inverse_via_rowops(Asq))"
   ]
  },
  {
   "cell_type": "markdown",
   "metadata": {},
   "source": [
    "## 7. Quick utilities cheat-sheet\n",
    "| Task | One-liner |\n",
    "|------|-----------|\n",
    "| Shape | `A.shape` |\n",
    "| Transpose | `A.T` |\n",
    "| Determinant | `np.linalg.det(A)` |\n",
    "| Rank | `np.linalg.matrix_rank(A)` |\n",
    "| Inverse | `np.linalg.inv(A)` |\n",
    "| Solve Ax = b | `np.linalg.solve(A, b)` |"
   ]
  }
 ],
 "metadata": {
  "kernelspec": {
   "display_name": "Python 3",
   "language": "python",
   "name": "python3"
  },
  "language_info": {
   "codemirror_mode": {
    "name": "ipython",
    "version": 3
   },
   "file_extension": ".py",
   "mimetype": "text/x-python",
   "name": "python",
   "nbconvert_exporter": "python",
   "pygments_lexer": "ipython3",
   "version": "3.10.0"
  }
 },
 "nbformat": 4,
 "nbformat_minor": 4
}
