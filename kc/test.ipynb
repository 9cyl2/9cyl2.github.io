{
 "cells": [
  {
   "cell_type": "markdown",
   "metadata": {},
   "source": [
    "### P7: Linearity in each row (or column)\n",
    "If two matrices differ in **only one row**, say row $r$, then\n",
    "$$\\det(A) + \\det(B) = \\det(C)$$\n",
    "where $C$ is identical to $A$ (and $B$) except that row $r$ of $C$ is the **element-wise sum** of row $r$ from $A$ and row $r$ from $B$."
   ]
  },
  {
   "cell_type": "code",
   "execution_count": 1,
   "metadata": {},
   "outputs": [
    {
     "name": "stdout",
     "output_type": "stream",
     "text": [
      "det(A) + det(B) = -0.0000\n",
      "det(C)          = 0.0000\n",
      "difference      = 2.31e-14\n"
     ]
    }
   ],
   "source": [
    "import numpy as np\n",
    "\n",
    "# build two 3×3 matrices that differ ONLY in row 1\n",
    "A = np.array([[2, 1, 3],\n",
    "              [4, 5, 6],\n",
    "              [7, 8, 9]], dtype=float)\n",
    "\n",
    "B = A.copy()\n",
    "B[1] = np.array([10, 11, 12])\n",
    "\n",
    "# matrix C whose row 1 = row1(A) + row1(B)\n",
    "C = A.copy()\n",
    "C[1] = A[1] + B[1]\n",
    "\n",
    "lhs = np.linalg.det(A) + np.linalg.det(B)\n",
    "rhs = np.linalg.det(C)\n",
    "print(f\"det(A) + det(B) = {lhs:.4f}\")\n",
    "print(f\"det(C)          = {rhs:.4f}\")\n",
    "print(f\"difference      = {abs(lhs - rhs):.2e}\")"
   ]
  }
 ],
 "metadata": {
  "kernelspec": {
   "display_name": "Python 3 (ipykernel)",
   "language": "python",
   "name": "python3"
  },
  "language_info": {
   "codemirror_mode": {
    "name": "ipython",
    "version": 3
   },
   "file_extension": ".py",
   "mimetype": "text/x-python",
   "name": "python",
   "nbconvert_exporter": "python",
   "pygments_lexer": "ipython3",
   "version": "3.10.18"
  }
 },
 "nbformat": 4,
 "nbformat_minor": 4
}
